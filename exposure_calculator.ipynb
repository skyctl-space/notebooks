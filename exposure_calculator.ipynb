{
 "cells": [
  {
   "cell_type": "markdown",
   "id": "a59737a0",
   "metadata": {},
   "source": [
    "# 🔭 Optimal Sub-Exposure Time in Astrophotography\n",
    "\n",
    "This notebook demonstrates how to estimate the optimal sub-exposure time based on your camera, telescope, and sky conditions, inspired by Dr. Robin Glover’s method.\n",
    "\n",
    "See https://www.youtube.com/watch?v=ub1HjvlCJ5Y\n",
    "\n",
    "Includes:\n",
    "- Cooling temperature effect on dark current\n",
    "- Optional direct measured sky background input"
   ]
  },
  {
   "cell_type": "code",
   "execution_count": null,
   "id": "0de05927",
   "metadata": {},
   "outputs": [],
   "source": [
    "from IPython.display import display, Markdown\n",
    "\n",
    "camera_profiles = {\n",
    "    \"ASI2600MC Pro\": {\n",
    "        \"gains\": {\n",
    "            0:   {\"read_noise\": 3.2, \"full_well\": 50000, \"gain\": 0.8},\n",
    "            100: {\"read_noise\": 1.2, \"full_well\": 25000, \"gain\": 0.25},\n",
    "        },\n",
    "        \"pixel_size\": 3.76,        # µm\n",
    "        \"qe\": 0.8,                 # quantum efficiency\n",
    "        \"dark_current_0C\": 0.0025,  # e⁻/s at 0°C\n",
    "        \"temp_coeff\": 0.5,        # 50% reduction per –5°C\n",
    "    },\n",
    "    \"ASI2600MM Pro\": {\n",
    "        \"gains\": {\n",
    "            0:   {\"read_noise\": 3.2, \"full_well\": 50000, \"gain\": 0.8},\n",
    "            100: {\"read_noise\": 1.2, \"full_well\": 25000, \"gain\": 0.25},\n",
    "        },\n",
    "        \"pixel_size\": 3.76,\n",
    "        \"qe\": 0.91,\n",
    "        \"dark_current_0C\": 0.0025,\n",
    "        \"temp_coeff\": 0.5,\n",
    "    },\n",
    "}\n",
    "\n",
    "telescope_profiles = {\n",
    "    \"RedCat 71\":           {\"aperture_mm\": 71, \"focal_length_mm\": 350, \"f_ratio\": 4.9},\n",
    "    \"Askar V 60/Reducer\":  {\"aperture_mm\": 60, \"focal_length_mm\": 270, \"f_ratio\": 4.5},\n",
    "    \"Askar V 80/Reducer\":  {\"aperture_mm\": 80, \"focal_length_mm\": 384, \"f_ratio\": 4.8},\n",
    "    \"Askar V 80/Extender\": {\"aperture_mm\": 80, \"focal_length_mm\": 600, \"f_ratio\": 7.5},\n",
    "}\n"
   ]
  },
  {
   "cell_type": "code",
   "execution_count": null,
   "id": "e5276864",
   "metadata": {},
   "outputs": [],
   "source": [
    "def sky_background_electron_rate(\n",
    "    mag_per_arcsec2: float,\n",
    "    camera_name: str,\n",
    "    telescope_name: str,\n",
    "    filter_bandwidth_nm: float = 300,\n",
    ") -> float:\n",
    "    \"\"\"\n",
    "    Convert sky brightness (mag/arcsec²) → electrons/sec/pixel.\n",
    "    \"\"\"\n",
    "    tel = telescope_profiles[telescope_name]\n",
    "    cam = camera_profiles[camera_name]\n",
    " \n",
    "    e = 10**(0.4 * (21.7 - mag_per_arcsec2))\n",
    "    # 3.837 is a constant derived from the conversion of mag/arcsec² to e⁻/s/pixel\n",
    "    # 550 nm is the reference wavelength for the conversion\n",
    "    # cam[\"qe\"] is the quantum efficiency of the camera\n",
    "    # cam[\"pixel_size\"] is in µm, so we square it to get pixel area in µm²\n",
    "    # tel[\"f_ratio\"] is the focal ratio of the telescope\n",
    "    # The formula calculates the expected electron rate based on these parameters.\n",
    "    t = (3.837 * filter_bandwidth_nm / 550 * cam[\"qe\"] * cam[\"pixel_size\"]**2 / tel[\"f_ratio\"]**2 * e)\n",
    "    \n",
    "    return round(100 * t) / 100\n",
    "\n",
    "def calculate_optimal_exposure(\n",
    "    camera_name: str,\n",
    "    gain_setting: int,\n",
    "    telescope_name: str,\n",
    "    filter_bandwidth_nm: float = 300,\n",
    "    sky_brightness: float = None,\n",
    "    measured_sky_e_per_s: float = None,\n",
    "    temp_c: float = 0,\n",
    "    tolerated_noise_percentage: float = 5\n",
    ") -> dict:\n",
    "    \"\"\"\n",
    "    Auto‑computes pixel_scale and then calculates optimal sub‑exposure time.\n",
    "    \"\"\"\n",
    "    # print(f\"🔍 DEBUG: Starting calculation for {camera_name} @ gain {gain_setting} with {telescope_name}\")\n",
    "    # print(f\"🔍 DEBUG: Input parameters - sky_brightness: {sky_brightness}, measured_sky_e_per_s: {measured_sky_e_per_s}, temp_c: {temp_c}, tolerated_noise_percentage: {tolerated_noise_percentage}\")\n",
    "\n",
    "    # look up profiles\n",
    "    cam = camera_profiles[camera_name]\n",
    "    gain_prof = cam[\"gains\"][gain_setting]\n",
    "    tel = telescope_profiles[telescope_name]\n",
    "    \n",
    "    # print(f\"🔍 DEBUG: Camera profile loaded - pixel_size: {cam['pixel_size']}µm, qe: {cam['qe']}, dark_current_0C: {cam['dark_current_0C']} e⁻/s\")\n",
    "    # print(f\"🔍 DEBUG: Gain profile loaded - read_noise: {gain_prof['read_noise']} e⁻, full_well: {gain_prof['full_well']} e⁻\")\n",
    "    # print(f\"🔍 DEBUG: Telescope profile loaded - aperture: {tel['aperture_mm']}mm, focal_length: {tel['focal_length_mm']}mm\")\n",
    "\n",
    "    # 1) Dark current @ temp_c\n",
    "    steps = (0 - temp_c) / 5\n",
    "    DC = cam[\"dark_current_0C\"] * (cam[\"temp_coeff\"] ** steps)\n",
    "    # print(f\"🔍 DEBUG: Step 1 - Dark current calculation:\")\n",
    "    # print(f\"           Temperature steps from 0°C to {temp_c}°C: {steps:.1f} steps\")\n",
    "    # print(f\"           Dark current at {temp_c}°C: {DC:.6f} e⁻/s/pixel\")\n",
    "\n",
    "    # 2) Sky signal\n",
    "    if measured_sky_e_per_s is not None:\n",
    "        S = measured_sky_e_per_s\n",
    "        # print(f\"🔍 DEBUG: Step 2 - Using measured sky background: {S:.3f} e⁻/s/pixel\")\n",
    "    elif sky_brightness is not None:\n",
    "        S = sky_background_electron_rate(sky_brightness, camera_name, telescope_name, filter_bandwidth_nm)\n",
    "        # print(f\"🔍 DEBUG: Step 2 - Sky signal calculation:\")\n",
    "        # print(f\"           Sky brightness: {sky_brightness:.2f} mag/arcsec²\")\n",
    "        # print(f\"           Calculated sky electrons: {S:.3f} e⁻/s/pixel\")\n",
    "    else:\n",
    "        raise ValueError(\"Must provide sky_brightness or measured_sky_e_per_s\")\n",
    "\n",
    "    # 3) Compute t_opt\n",
    "    RN = gain_prof[\"read_noise\"]\n",
    "    C_factor = 1/(((100+tolerated_noise_percentage)/100)**2-1)\n",
    "    t_opt = C_factor * RN**2 / (S + DC)\n",
    "    # print(f\"🔍 DEBUG: Step 3 - Optimal exposure calculation:\")\n",
    "    # print(f\"           Read noise: {RN:.2f} e⁻\")\n",
    "    # print(f\"           C factor: {C_factor}\")\n",
    "    # print(f\"           Total noise source (S + DC): {S + DC:.6f} e⁻/s\")\n",
    "    # print(f\"           Optimal exposure time: {t_opt:.2f} seconds\")\n",
    "\n",
    "    # 4) Accumulated electrons & warnings\n",
    "    e_sky  = S * t_opt\n",
    "    e_dark = DC * t_opt\n",
    "    e_tot  = e_sky + e_dark\n",
    "    fw     = gain_prof[\"full_well\"]\n",
    "\n",
    "    # print(f\"🔍 DEBUG: Step 4 - Accumulated electrons:\")\n",
    "    # print(f\"           Sky electrons: {e_sky:.2f} e⁻\")\n",
    "    # print(f\"           Dark electrons: {e_dark:.2f} e⁻\")\n",
    "    # print(f\"           Total electrons: {e_tot:.2f} e⁻\")\n",
    "    # print(f\"           Full well capacity: {fw} e⁻\")\n",
    "    # print(f\"           Well fill percentage: {(e_tot/fw)*100:.1f}%\")\n",
    "\n",
    "    warns = []\n",
    "    if e_tot > 0.8 * fw:\n",
    "        warns.append(f\"⚠️ Saturation risk: {e_tot:.0f} e⁻ > 80% of full well ({fw})\")\n",
    "    # if e_sky < snr_factor * RN**2:\n",
    "    #     warns.append(f\"⚠️ Sky noise < {snr_factor}× read noise\")\n",
    "    \n",
    "    # print(f\"🔍 DEBUG: Warnings: {warns if warns else 'None'}\")\n",
    "    # print(\"🔍 DEBUG: Calculation complete!\\n\")\n",
    "\n",
    "    return {\n",
    "        \"camera\": camera_name,\n",
    "        \"gain\": gain_setting,\n",
    "        \"telescope\": telescope_name,\n",
    "        \"dark_current_e_per_s\": DC,\n",
    "        \"sky_e_per_s\": S,\n",
    "        \"t_opt_s\": t_opt,\n",
    "        \"e_sky\": e_sky,\n",
    "        \"e_dark\": e_dark,\n",
    "        \"e_total\": e_tot,\n",
    "        \"full_well\": fw,\n",
    "        \"warnings\": warns\n",
    "    }\n",
    "\n",
    "def sky_brightness_from_bortle(bortle_class: int) -> float:\n",
    "    \"\"\"\n",
    "    Return the typical sky brightness (mag/arcsec²) for a given Bortle scale class.\n",
    "    \n",
    "    Bortle Class → Sky Brightness (mag/arcsec²):\n",
    "      1 → 21.9\n",
    "      2 → 21.7\n",
    "      3 → 21.5\n",
    "      4 → 21.0\n",
    "      5 → 20.5\n",
    "      6 → 19.5\n",
    "      7 → 18.0\n",
    "      8 → 17.0\n",
    "      9 → 16.0\n",
    "    \n",
    "    Args:\n",
    "        bortle_class: Integer from 1 (excellent dark site) to 9 (inner-city sky).\n",
    "    \n",
    "    Returns:\n",
    "        Typical sky brightness in mag/arcsec².\n",
    "    \n",
    "    Raises:\n",
    "        ValueError: If bortle_class is not in 1–9.\n",
    "    \"\"\"\n",
    "    mapping = {\n",
    "        1: 21.9,\n",
    "        2: 21.7,\n",
    "        3: 21.5,\n",
    "        4: 21.0,\n",
    "        5: 20.5,\n",
    "        6: 19.5,\n",
    "        7: 18.0,\n",
    "        8: 17.0,\n",
    "        9: 16.0,\n",
    "    }\n",
    "    try:\n",
    "        return mapping[bortle_class]\n",
    "    except KeyError:\n",
    "        raise ValueError(\"Bortle class must be an integer from 1 to 9\") from None"
   ]
  },
  {
   "cell_type": "code",
   "execution_count": 101,
   "id": "2684e61a",
   "metadata": {},
   "outputs": [],
   "source": [
    "def generate_filter_exposure_table(\n",
    "    telescope_name: str,\n",
    "    camera_name: str,\n",
    "    gain_setting: int,\n",
    "    temp_c: float = 0,\n",
    "    tolerated_noise_percentage: float = 2,\n",
    "    sky_brightness: float = None,\n",
    "    measured_sky_e_per_s: float = None,\n",
    "    custom_filters: dict = None\n",
    ") -> None:\n",
    "    \"\"\"\n",
    "    Generate a table with optimal exposure times for various common filter types.\n",
    "    \n",
    "    Args:\n",
    "        telescope_name: Name of the telescope from telescope_profiles\n",
    "        camera_name: Name of the camera from camera_profiles\n",
    "        gain_setting: Gain setting to use\n",
    "        temp_c: Camera temperature in Celsius\n",
    "        tolerated_noise_percentage: Percentage of sky noise to tolerate (default: 2%)\n",
    "        sky_brightness: Sky brightness in mag/arcsec² (optional)\n",
    "        measured_sky_e_per_s: Directly measured sky background in e⁻/s/pixel (optional)\n",
    "        custom_filters: Dictionary of custom filters to use instead of default filters\n",
    "                        Format: {\"Filter_Name\": {\"bandwidth_nm\": value, \"label\": \"Label\", \"type\": \"Type\"}}\n",
    "    \"\"\"\n",
    "    # Define default filter configurations with better organization by type\n",
    "    default_filters = {\n",
    "        # Broadband filters\n",
    "        \"L\": {\"bandwidth_nm\": 300, \"label\": \"Luminance\", \"type\": \"Broadband\"},\n",
    "        \"R\": {\"bandwidth_nm\": 100, \"label\": \"Red\", \"type\": \"Broadband\"},\n",
    "        \"G\": {\"bandwidth_nm\": 100, \"label\": \"Green\", \"type\": \"Broadband\"},\n",
    "        \"B\": {\"bandwidth_nm\": 100, \"label\": \"Blue\", \"type\": \"Broadband\"},\n",
    "        \n",
    "        # Narrowband filters\n",
    "        \"Hα\": {\"bandwidth_nm\": 6, \"label\": \"Hydrogen-α\", \"type\": \"Narrowband\"},\n",
    "        \"OIII\": {\"bandwidth_nm\": 6, \"label\": \"Oxygen-III\", \"type\": \"Narrowband\"},\n",
    "        \"SII\": {\"bandwidth_nm\": 6, \"label\": \"Sulfur-II\", \"type\": \"Narrowband\"}\n",
    "    }\n",
    "    \n",
    "    # Use custom filters if provided, otherwise use defaults\n",
    "    filters = custom_filters if custom_filters is not None else default_filters\n",
    "    \n",
    "    # Calculate exposure time for each filter\n",
    "    results = {}\n",
    "    for filter_name, filter_info in filters.items():\n",
    "        result = calculate_optimal_exposure(\n",
    "            camera_name=camera_name,\n",
    "            gain_setting=gain_setting,\n",
    "            telescope_name=telescope_name,\n",
    "            filter_bandwidth_nm=filter_info[\"bandwidth_nm\"],\n",
    "            sky_brightness=sky_brightness,\n",
    "            measured_sky_e_per_s=measured_sky_e_per_s,\n",
    "            temp_c=temp_c,\n",
    "            tolerated_noise_percentage=tolerated_noise_percentage\n",
    "        )\n",
    "        results[filter_name] = result\n",
    "    \n",
    "    # Display setup information with better formatting\n",
    "    display(Markdown(f\"# Exposure Table: {telescope_name} + {camera_name}\"))\n",
    "    \n",
    "    # Create setup info as a styled box\n",
    "    setup_info = [\n",
    "        f\"### Configuration\",\n",
    "        f\"- **Telescope**: {telescope_name} (f/{telescope_profiles[telescope_name]['f_ratio']})\",\n",
    "        f\"- **Camera**: {camera_name} at Gain {gain_setting}\",\n",
    "        f\"- **Temperature**: {temp_c}°C\",\n",
    "        f\"- **Noise Tolerance**: {tolerated_noise_percentage}% of sky noise\"\n",
    "    ]\n",
    "    \n",
    "    # Add sky brightness or measured sky background info\n",
    "    if sky_brightness is not None:\n",
    "        bortle = 1 + int((22-sky_brightness)/0.8) if sky_brightness < 21.9 else 1\n",
    "        setup_info.append(f\"- **Sky Brightness**: {sky_brightness:.2f} mag/arcsec² (Bortle {bortle})\")\n",
    "    else:\n",
    "        setup_info.append(f\"- **Sky Background**: {measured_sky_e_per_s:.4f} e⁻/s/pixel\")\n",
    "    \n",
    "    display(Markdown(\"\\n\".join(setup_info)))\n",
    "    \n",
    "    # Group results by filter type\n",
    "    filter_types = {}\n",
    "    \n",
    "    for filter_name, result in results.items():\n",
    "        t_opt = result[\"t_opt_s\"]\n",
    "        filter_type = filters[filter_name].get(\"type\", \"Other\")\n",
    "        \n",
    "        # Format the time in appropriate units with better precision handling\n",
    "        if t_opt < 1:\n",
    "            formatted_time = f\"{t_opt * 1000:.2f}ms\"\n",
    "        elif t_opt < 60:\n",
    "            formatted_time = f\"{t_opt:.2f}s\"\n",
    "        elif t_opt < 3600:\n",
    "            minutes = int(t_opt // 60)\n",
    "            seconds = round(t_opt % 60)\n",
    "            formatted_time = f\"{minutes}m {seconds:02d}s\"\n",
    "        else:\n",
    "            hours = int(t_opt // 3600)\n",
    "            minutes = int((t_opt % 3600) // 60)\n",
    "            seconds = round(t_opt % 60)\n",
    "            if seconds > 0:\n",
    "                formatted_time = f\"{hours}h {minutes:02d}m {seconds:02d}s\"\n",
    "            else:\n",
    "                formatted_time = f\"{hours}h {minutes:02d}m\"\n",
    "            \n",
    "        # Calculate the well usage percentage\n",
    "        well_usage = (result[\"e_total\"] / result[\"full_well\"]) * 100\n",
    "        \n",
    "        # Create a formatted result entry\n",
    "        formatted_result = {\n",
    "            \"Filter\": f\"{filter_name}\",\n",
    "            \"Description\": f\"{filters[filter_name]['label']} ({filters[filter_name]['bandwidth_nm']}nm)\",\n",
    "            \"Optimal Exposure\": formatted_time,\n",
    "            \"Sky Signal\": f\"{result['sky_e_per_s']:.3f} e⁻/s\",\n",
    "            \"Well Usage\": f\"{well_usage:.1f}%\",\n",
    "            \"Warnings\": \", \".join(result[\"warnings\"]) if result[\"warnings\"] else None\n",
    "        }\n",
    "        \n",
    "        # Add to appropriate filter type group\n",
    "        if filter_type not in filter_types:\n",
    "            filter_types[filter_type] = []\n",
    "        filter_types[filter_type].append(formatted_result)\n",
    "    \n",
    "    # Display tables by filter type\n",
    "    for filter_type, results_list in filter_types.items():\n",
    "        display(Markdown(f\"## {filter_type} Filters\"))\n",
    "        create_markdown_table(results_list)\n",
    "    \n",
    "    # Add a legend for warnings\n",
    "    if any(result[\"warnings\"] for result in results.values()):\n",
    "        display(Markdown(\"### Warning Legend\"))\n",
    "        warning_md = \"- ⚠️ **Sky noise < 10× read noise**: Exposure may be read noise limited\\n\"\n",
    "        warning_md += \"- ⚠️ **Well capacity > 80%**: Risk of non-linearity or saturation\\n\"\n",
    "        warning_md += \"- ⚠️ **Very short exposure**: May be below camera's minimum exposure time\"\n",
    "        display(Markdown(warning_md))\n",
    "\n",
    "def create_markdown_table(results):\n",
    "    \"\"\"Helper function to create a markdown table from results\"\"\"\n",
    "    if not results:\n",
    "        display(Markdown(\"*No filters in this category*\"))\n",
    "        return\n",
    "        \n",
    "    table_rows = [\"| Filter | Description | Optimal Exposure | Sky Signal | Well Usage | Warnings |\", \n",
    "                 \"|--------|-------------|------------------|------------|------------|----------|\"]\n",
    "    \n",
    "    for row in results:\n",
    "        warnings = row[\"Warnings\"] if row[\"Warnings\"] else \"\"\n",
    "        table_rows.append(\n",
    "            f\"| {row['Filter']} | {row['Description']} | {row['Optimal Exposure']} | {row['Sky Signal']} | {row['Well Usage']} | {warnings} |\"\n",
    "        )\n",
    "    \n",
    "    display(Markdown(\"\\n\".join(table_rows)))\n"
   ]
  },
  {
   "cell_type": "code",
   "execution_count": 108,
   "id": "dc9f16f0",
   "metadata": {},
   "outputs": [
    {
     "data": {
      "text/markdown": [
       "# Exposure Table: RedCat 71 + ASI2600MM Pro"
      ],
      "text/plain": [
       "<IPython.core.display.Markdown object>"
      ]
     },
     "metadata": {},
     "output_type": "display_data"
    },
    {
     "data": {
      "text/markdown": [
       "### Configuration\n",
       "- **Telescope**: RedCat 71 (f/4.9)\n",
       "- **Camera**: ASI2600MM Pro at Gain 100\n",
       "- **Temperature**: 0°C\n",
       "- **Noise Tolerance**: 2% of sky noise\n",
       "- **Sky Brightness**: 21.90 mag/arcsec² (Bortle 1)"
      ],
      "text/plain": [
       "<IPython.core.display.Markdown object>"
      ]
     },
     "metadata": {},
     "output_type": "display_data"
    },
    {
     "data": {
      "text/markdown": [
       "## Broadband Filters"
      ],
      "text/plain": [
       "<IPython.core.display.Markdown object>"
      ]
     },
     "metadata": {},
     "output_type": "display_data"
    },
    {
     "data": {
      "text/markdown": [
       "| Filter | Description | Optimal Exposure | Sky Signal | Well Usage | Warnings |\n",
       "|--------|-------------|------------------|------------|------------|----------|\n",
       "| L | Luminance (300nm) | 38.22s | 0.930 e⁻/s | 0.1% |  |\n",
       "| R | Red (100nm) | 1m 54s | 0.310 e⁻/s | 0.1% |  |\n",
       "| G | Green (100nm) | 1m 54s | 0.310 e⁻/s | 0.1% |  |\n",
       "| B | Blue (100nm) | 1m 54s | 0.310 e⁻/s | 0.1% |  |"
      ],
      "text/plain": [
       "<IPython.core.display.Markdown object>"
      ]
     },
     "metadata": {},
     "output_type": "display_data"
    },
    {
     "data": {
      "text/markdown": [
       "## Narrowband Filters"
      ],
      "text/plain": [
       "<IPython.core.display.Markdown object>"
      ]
     },
     "metadata": {},
     "output_type": "display_data"
    },
    {
     "data": {
      "text/markdown": [
       "| Filter | Description | Optimal Exposure | Sky Signal | Well Usage | Warnings |\n",
       "|--------|-------------|------------------|------------|------------|----------|\n",
       "| Hα | Hydrogen-α (6nm) | 26m 24s | 0.020 e⁻/s | 0.1% |  |\n",
       "| OIII | Oxygen-III (6nm) | 26m 24s | 0.020 e⁻/s | 0.1% |  |\n",
       "| SII | Sulfur-II (6nm) | 26m 24s | 0.020 e⁻/s | 0.1% |  |"
      ],
      "text/plain": [
       "<IPython.core.display.Markdown object>"
      ]
     },
     "metadata": {},
     "output_type": "display_data"
    },
    {
     "data": {
      "text/markdown": [
       "# Exposure Table: RedCat 71 + ASI2600MC Pro"
      ],
      "text/plain": [
       "<IPython.core.display.Markdown object>"
      ]
     },
     "metadata": {},
     "output_type": "display_data"
    },
    {
     "data": {
      "text/markdown": [
       "### Configuration\n",
       "- **Telescope**: RedCat 71 (f/4.9)\n",
       "- **Camera**: ASI2600MC Pro at Gain 100\n",
       "- **Temperature**: 0°C\n",
       "- **Noise Tolerance**: 2% of sky noise\n",
       "- **Sky Brightness**: 21.90 mag/arcsec² (Bortle 1)"
      ],
      "text/plain": [
       "<IPython.core.display.Markdown object>"
      ]
     },
     "metadata": {},
     "output_type": "display_data"
    },
    {
     "data": {
      "text/markdown": [
       "## Broadband Filters"
      ],
      "text/plain": [
       "<IPython.core.display.Markdown object>"
      ]
     },
     "metadata": {},
     "output_type": "display_data"
    },
    {
     "data": {
      "text/markdown": [
       "| Filter | Description | Optimal Exposure | Sky Signal | Well Usage | Warnings |\n",
       "|--------|-------------|------------------|------------|------------|----------|\n",
       "| R | Red (100nm) | 2m 11s | 0.270 e⁻/s | 0.1% |  |\n",
       "| G | Green (100nm) | 2m 11s | 0.270 e⁻/s | 0.1% |  |\n",
       "| B | Blue (100nm) | 2m 11s | 0.270 e⁻/s | 0.1% |  |"
      ],
      "text/plain": [
       "<IPython.core.display.Markdown object>"
      ]
     },
     "metadata": {},
     "output_type": "display_data"
    },
    {
     "data": {
      "text/markdown": [
       "## Narrowband Filters"
      ],
      "text/plain": [
       "<IPython.core.display.Markdown object>"
      ]
     },
     "metadata": {},
     "output_type": "display_data"
    },
    {
     "data": {
      "text/markdown": [
       "| Filter | Description | Optimal Exposure | Sky Signal | Well Usage | Warnings |\n",
       "|--------|-------------|------------------|------------|------------|----------|\n",
       "| Hα | Hydrogen-α (10nm) | 18m 17s | 0.030 e⁻/s | 0.1% |  |\n",
       "| OIII | Oxygen-III (10nm) | 18m 17s | 0.030 e⁻/s | 0.1% |  |"
      ],
      "text/plain": [
       "<IPython.core.display.Markdown object>"
      ]
     },
     "metadata": {},
     "output_type": "display_data"
    },
    {
     "data": {
      "text/markdown": [
       "# Exposure Table: Askar V 60/Reducer + ASI2600MM Pro"
      ],
      "text/plain": [
       "<IPython.core.display.Markdown object>"
      ]
     },
     "metadata": {},
     "output_type": "display_data"
    },
    {
     "data": {
      "text/markdown": [
       "### Configuration\n",
       "- **Telescope**: Askar V 60/Reducer (f/4.5)\n",
       "- **Camera**: ASI2600MM Pro at Gain 100\n",
       "- **Temperature**: 0°C\n",
       "- **Noise Tolerance**: 2% of sky noise\n",
       "- **Sky Brightness**: 21.90 mag/arcsec² (Bortle 1)"
      ],
      "text/plain": [
       "<IPython.core.display.Markdown object>"
      ]
     },
     "metadata": {},
     "output_type": "display_data"
    },
    {
     "data": {
      "text/markdown": [
       "## Broadband Filters"
      ],
      "text/plain": [
       "<IPython.core.display.Markdown object>"
      ]
     },
     "metadata": {},
     "output_type": "display_data"
    },
    {
     "data": {
      "text/markdown": [
       "| Filter | Description | Optimal Exposure | Sky Signal | Well Usage | Warnings |\n",
       "|--------|-------------|------------------|------------|------------|----------|\n",
       "| L | Luminance (300nm) | 32.04s | 1.110 e⁻/s | 0.1% |  |\n",
       "| R | Red (100nm) | 1m 36s | 0.370 e⁻/s | 0.1% |  |\n",
       "| G | Green (100nm) | 1m 36s | 0.370 e⁻/s | 0.1% |  |\n",
       "| B | Blue (100nm) | 1m 36s | 0.370 e⁻/s | 0.1% |  |"
      ],
      "text/plain": [
       "<IPython.core.display.Markdown object>"
      ]
     },
     "metadata": {},
     "output_type": "display_data"
    },
    {
     "data": {
      "text/markdown": [
       "## Narrowband Filters"
      ],
      "text/plain": [
       "<IPython.core.display.Markdown object>"
      ]
     },
     "metadata": {},
     "output_type": "display_data"
    },
    {
     "data": {
      "text/markdown": [
       "| Filter | Description | Optimal Exposure | Sky Signal | Well Usage | Warnings |\n",
       "|--------|-------------|------------------|------------|------------|----------|\n",
       "| Hα | Hydrogen-α (6nm) | 26m 24s | 0.020 e⁻/s | 0.1% |  |\n",
       "| OIII | Oxygen-III (6nm) | 26m 24s | 0.020 e⁻/s | 0.1% |  |\n",
       "| SII | Sulfur-II (6nm) | 26m 24s | 0.020 e⁻/s | 0.1% |  |"
      ],
      "text/plain": [
       "<IPython.core.display.Markdown object>"
      ]
     },
     "metadata": {},
     "output_type": "display_data"
    },
    {
     "data": {
      "text/markdown": [
       "# Exposure Table: Askar V 60/Reducer + ASI2600MC Pro"
      ],
      "text/plain": [
       "<IPython.core.display.Markdown object>"
      ]
     },
     "metadata": {},
     "output_type": "display_data"
    },
    {
     "data": {
      "text/markdown": [
       "### Configuration\n",
       "- **Telescope**: Askar V 60/Reducer (f/4.5)\n",
       "- **Camera**: ASI2600MC Pro at Gain 100\n",
       "- **Temperature**: 0°C\n",
       "- **Noise Tolerance**: 2% of sky noise\n",
       "- **Sky Brightness**: 21.90 mag/arcsec² (Bortle 1)"
      ],
      "text/plain": [
       "<IPython.core.display.Markdown object>"
      ]
     },
     "metadata": {},
     "output_type": "display_data"
    },
    {
     "data": {
      "text/markdown": [
       "## Broadband Filters"
      ],
      "text/plain": [
       "<IPython.core.display.Markdown object>"
      ]
     },
     "metadata": {},
     "output_type": "display_data"
    },
    {
     "data": {
      "text/markdown": [
       "| Filter | Description | Optimal Exposure | Sky Signal | Well Usage | Warnings |\n",
       "|--------|-------------|------------------|------------|------------|----------|\n",
       "| R | Red (100nm) | 1m 51s | 0.320 e⁻/s | 0.1% |  |\n",
       "| G | Green (100nm) | 1m 51s | 0.320 e⁻/s | 0.1% |  |\n",
       "| B | Blue (100nm) | 1m 51s | 0.320 e⁻/s | 0.1% |  |"
      ],
      "text/plain": [
       "<IPython.core.display.Markdown object>"
      ]
     },
     "metadata": {},
     "output_type": "display_data"
    },
    {
     "data": {
      "text/markdown": [
       "## Narrowband Filters"
      ],
      "text/plain": [
       "<IPython.core.display.Markdown object>"
      ]
     },
     "metadata": {},
     "output_type": "display_data"
    },
    {
     "data": {
      "text/markdown": [
       "| Filter | Description | Optimal Exposure | Sky Signal | Well Usage | Warnings |\n",
       "|--------|-------------|------------------|------------|------------|----------|\n",
       "| Hα | Hydrogen-α (10nm) | 18m 17s | 0.030 e⁻/s | 0.1% |  |\n",
       "| OIII | Oxygen-III (10nm) | 18m 17s | 0.030 e⁻/s | 0.1% |  |"
      ],
      "text/plain": [
       "<IPython.core.display.Markdown object>"
      ]
     },
     "metadata": {},
     "output_type": "display_data"
    },
    {
     "data": {
      "text/markdown": [
       "# Exposure Table: Askar V 80/Reducer + ASI2600MM Pro"
      ],
      "text/plain": [
       "<IPython.core.display.Markdown object>"
      ]
     },
     "metadata": {},
     "output_type": "display_data"
    },
    {
     "data": {
      "text/markdown": [
       "### Configuration\n",
       "- **Telescope**: Askar V 80/Reducer (f/4.8)\n",
       "- **Camera**: ASI2600MM Pro at Gain 100\n",
       "- **Temperature**: 0°C\n",
       "- **Noise Tolerance**: 2% of sky noise\n",
       "- **Sky Brightness**: 21.90 mag/arcsec² (Bortle 1)"
      ],
      "text/plain": [
       "<IPython.core.display.Markdown object>"
      ]
     },
     "metadata": {},
     "output_type": "display_data"
    },
    {
     "data": {
      "text/markdown": [
       "## Broadband Filters"
      ],
      "text/plain": [
       "<IPython.core.display.Markdown object>"
      ]
     },
     "metadata": {},
     "output_type": "display_data"
    },
    {
     "data": {
      "text/markdown": [
       "| Filter | Description | Optimal Exposure | Sky Signal | Well Usage | Warnings |\n",
       "|--------|-------------|------------------|------------|------------|----------|\n",
       "| L | Luminance (300nm) | 36.65s | 0.970 e⁻/s | 0.1% |  |\n",
       "| R | Red (100nm) | 1m 51s | 0.320 e⁻/s | 0.1% |  |\n",
       "| G | Green (100nm) | 1m 51s | 0.320 e⁻/s | 0.1% |  |\n",
       "| B | Blue (100nm) | 1m 51s | 0.320 e⁻/s | 0.1% |  |"
      ],
      "text/plain": [
       "<IPython.core.display.Markdown object>"
      ]
     },
     "metadata": {},
     "output_type": "display_data"
    },
    {
     "data": {
      "text/markdown": [
       "## Narrowband Filters"
      ],
      "text/plain": [
       "<IPython.core.display.Markdown object>"
      ]
     },
     "metadata": {},
     "output_type": "display_data"
    },
    {
     "data": {
      "text/markdown": [
       "| Filter | Description | Optimal Exposure | Sky Signal | Well Usage | Warnings |\n",
       "|--------|-------------|------------------|------------|------------|----------|\n",
       "| Hα | Hydrogen-α (6nm) | 26m 24s | 0.020 e⁻/s | 0.1% |  |\n",
       "| OIII | Oxygen-III (6nm) | 26m 24s | 0.020 e⁻/s | 0.1% |  |\n",
       "| SII | Sulfur-II (6nm) | 26m 24s | 0.020 e⁻/s | 0.1% |  |"
      ],
      "text/plain": [
       "<IPython.core.display.Markdown object>"
      ]
     },
     "metadata": {},
     "output_type": "display_data"
    },
    {
     "data": {
      "text/markdown": [
       "# Exposure Table: Askar V 80/Reducer + ASI2600MC Pro"
      ],
      "text/plain": [
       "<IPython.core.display.Markdown object>"
      ]
     },
     "metadata": {},
     "output_type": "display_data"
    },
    {
     "data": {
      "text/markdown": [
       "### Configuration\n",
       "- **Telescope**: Askar V 80/Reducer (f/4.8)\n",
       "- **Camera**: ASI2600MC Pro at Gain 100\n",
       "- **Temperature**: 0°C\n",
       "- **Noise Tolerance**: 2% of sky noise\n",
       "- **Sky Brightness**: 21.90 mag/arcsec² (Bortle 1)"
      ],
      "text/plain": [
       "<IPython.core.display.Markdown object>"
      ]
     },
     "metadata": {},
     "output_type": "display_data"
    },
    {
     "data": {
      "text/markdown": [
       "## Broadband Filters"
      ],
      "text/plain": [
       "<IPython.core.display.Markdown object>"
      ]
     },
     "metadata": {},
     "output_type": "display_data"
    },
    {
     "data": {
      "text/markdown": [
       "| Filter | Description | Optimal Exposure | Sky Signal | Well Usage | Warnings |\n",
       "|--------|-------------|------------------|------------|------------|----------|\n",
       "| R | Red (100nm) | 2m 06s | 0.280 e⁻/s | 0.1% |  |\n",
       "| G | Green (100nm) | 2m 06s | 0.280 e⁻/s | 0.1% |  |\n",
       "| B | Blue (100nm) | 2m 06s | 0.280 e⁻/s | 0.1% |  |"
      ],
      "text/plain": [
       "<IPython.core.display.Markdown object>"
      ]
     },
     "metadata": {},
     "output_type": "display_data"
    },
    {
     "data": {
      "text/markdown": [
       "## Narrowband Filters"
      ],
      "text/plain": [
       "<IPython.core.display.Markdown object>"
      ]
     },
     "metadata": {},
     "output_type": "display_data"
    },
    {
     "data": {
      "text/markdown": [
       "| Filter | Description | Optimal Exposure | Sky Signal | Well Usage | Warnings |\n",
       "|--------|-------------|------------------|------------|------------|----------|\n",
       "| Hα | Hydrogen-α (10nm) | 18m 17s | 0.030 e⁻/s | 0.1% |  |\n",
       "| OIII | Oxygen-III (10nm) | 18m 17s | 0.030 e⁻/s | 0.1% |  |"
      ],
      "text/plain": [
       "<IPython.core.display.Markdown object>"
      ]
     },
     "metadata": {},
     "output_type": "display_data"
    },
    {
     "data": {
      "text/markdown": [
       "# Exposure Table: Askar V 80/Extender + ASI2600MM Pro"
      ],
      "text/plain": [
       "<IPython.core.display.Markdown object>"
      ]
     },
     "metadata": {},
     "output_type": "display_data"
    },
    {
     "data": {
      "text/markdown": [
       "### Configuration\n",
       "- **Telescope**: Askar V 80/Extender (f/7.5)\n",
       "- **Camera**: ASI2600MM Pro at Gain 100\n",
       "- **Temperature**: 0°C\n",
       "- **Noise Tolerance**: 2% of sky noise\n",
       "- **Sky Brightness**: 21.90 mag/arcsec² (Bortle 1)"
      ],
      "text/plain": [
       "<IPython.core.display.Markdown object>"
      ]
     },
     "metadata": {},
     "output_type": "display_data"
    },
    {
     "data": {
      "text/markdown": [
       "## Broadband Filters"
      ],
      "text/plain": [
       "<IPython.core.display.Markdown object>"
      ]
     },
     "metadata": {},
     "output_type": "display_data"
    },
    {
     "data": {
      "text/markdown": [
       "| Filter | Description | Optimal Exposure | Sky Signal | Well Usage | Warnings |\n",
       "|--------|-------------|------------------|------------|------------|----------|\n",
       "| L | Luminance (300nm) | 1m 29s | 0.400 e⁻/s | 0.1% |  |\n",
       "| R | Red (100nm) | 4m 29s | 0.130 e⁻/s | 0.1% |  |\n",
       "| G | Green (100nm) | 4m 29s | 0.130 e⁻/s | 0.1% |  |\n",
       "| B | Blue (100nm) | 4m 29s | 0.130 e⁻/s | 0.1% |  |"
      ],
      "text/plain": [
       "<IPython.core.display.Markdown object>"
      ]
     },
     "metadata": {},
     "output_type": "display_data"
    },
    {
     "data": {
      "text/markdown": [
       "## Narrowband Filters"
      ],
      "text/plain": [
       "<IPython.core.display.Markdown object>"
      ]
     },
     "metadata": {},
     "output_type": "display_data"
    },
    {
     "data": {
      "text/markdown": [
       "| Filter | Description | Optimal Exposure | Sky Signal | Well Usage | Warnings |\n",
       "|--------|-------------|------------------|------------|------------|----------|\n",
       "| Hα | Hydrogen-α (6nm) | 47m 31s | 0.010 e⁻/s | 0.1% |  |\n",
       "| OIII | Oxygen-III (6nm) | 47m 31s | 0.010 e⁻/s | 0.1% |  |\n",
       "| SII | Sulfur-II (6nm) | 47m 31s | 0.010 e⁻/s | 0.1% |  |"
      ],
      "text/plain": [
       "<IPython.core.display.Markdown object>"
      ]
     },
     "metadata": {},
     "output_type": "display_data"
    },
    {
     "data": {
      "text/markdown": [
       "# Exposure Table: Askar V 80/Extender + ASI2600MC Pro"
      ],
      "text/plain": [
       "<IPython.core.display.Markdown object>"
      ]
     },
     "metadata": {},
     "output_type": "display_data"
    },
    {
     "data": {
      "text/markdown": [
       "### Configuration\n",
       "- **Telescope**: Askar V 80/Extender (f/7.5)\n",
       "- **Camera**: ASI2600MC Pro at Gain 100\n",
       "- **Temperature**: 0°C\n",
       "- **Noise Tolerance**: 2% of sky noise\n",
       "- **Sky Brightness**: 21.90 mag/arcsec² (Bortle 1)"
      ],
      "text/plain": [
       "<IPython.core.display.Markdown object>"
      ]
     },
     "metadata": {},
     "output_type": "display_data"
    },
    {
     "data": {
      "text/markdown": [
       "## Broadband Filters"
      ],
      "text/plain": [
       "<IPython.core.display.Markdown object>"
      ]
     },
     "metadata": {},
     "output_type": "display_data"
    },
    {
     "data": {
      "text/markdown": [
       "| Filter | Description | Optimal Exposure | Sky Signal | Well Usage | Warnings |\n",
       "|--------|-------------|------------------|------------|------------|----------|\n",
       "| R | Red (100nm) | 4m 51s | 0.120 e⁻/s | 0.1% |  |\n",
       "| G | Green (100nm) | 4m 51s | 0.120 e⁻/s | 0.1% |  |\n",
       "| B | Blue (100nm) | 4m 51s | 0.120 e⁻/s | 0.1% |  |"
      ],
      "text/plain": [
       "<IPython.core.display.Markdown object>"
      ]
     },
     "metadata": {},
     "output_type": "display_data"
    },
    {
     "data": {
      "text/markdown": [
       "## Narrowband Filters"
      ],
      "text/plain": [
       "<IPython.core.display.Markdown object>"
      ]
     },
     "metadata": {},
     "output_type": "display_data"
    },
    {
     "data": {
      "text/markdown": [
       "| Filter | Description | Optimal Exposure | Sky Signal | Well Usage | Warnings |\n",
       "|--------|-------------|------------------|------------|------------|----------|\n",
       "| Hα | Hydrogen-α (10nm) | 47m 31s | 0.010 e⁻/s | 0.1% |  |\n",
       "| OIII | Oxygen-III (10nm) | 47m 31s | 0.010 e⁻/s | 0.1% |  |"
      ],
      "text/plain": [
       "<IPython.core.display.Markdown object>"
      ]
     },
     "metadata": {},
     "output_type": "display_data"
    }
   ],
   "source": [
    "for telescope in telescope_profiles:\n",
    "    generate_filter_exposure_table(\n",
    "        telescope_name=telescope,\n",
    "        camera_name=\"ASI2600MM Pro\",\n",
    "        gain_setting=100,\n",
    "        temp_c=0,\n",
    "        tolerated_noise_percentage=2,\n",
    "        sky_brightness=sky_brightness_from_bortle(1))\n",
    "\n",
    "    generate_filter_exposure_table(\n",
    "        telescope_name=telescope,\n",
    "        camera_name=\"ASI2600MC Pro\",\n",
    "        gain_setting=100,\n",
    "        temp_c=0,\n",
    "        tolerated_noise_percentage=2,\n",
    "        sky_brightness=sky_brightness_from_bortle(1),\n",
    "        custom_filters={\n",
    "            \"R\": {\"bandwidth_nm\": 100, \"label\": \"Red\", \"type\": \"Broadband\"},\n",
    "            \"G\": {\"bandwidth_nm\": 100, \"label\": \"Green\", \"type\": \"Broadband\"},\n",
    "            \"B\": {\"bandwidth_nm\": 100, \"label\": \"Blue\", \"type\": \"Broadband\"},\n",
    "            \"Hα\": {\"bandwidth_nm\": 10, \"label\": \"Hydrogen-α\", \"type\": \"Narrowband\"},\n",
    "            \"OIII\": {\"bandwidth_nm\": 10, \"label\": \"Oxygen-III\", \"type\": \"Narrowband\"},\n",
    "        })"
   ]
  }
 ],
 "metadata": {
  "kernelspec": {
   "display_name": "Python 3",
   "language": "python",
   "name": "python3"
  },
  "language_info": {
   "codemirror_mode": {
    "name": "ipython",
    "version": 3
   },
   "file_extension": ".py",
   "mimetype": "text/x-python",
   "name": "python",
   "nbconvert_exporter": "python",
   "pygments_lexer": "ipython3",
   "version": "3.12.9"
  }
 },
 "nbformat": 4,
 "nbformat_minor": 5
}
